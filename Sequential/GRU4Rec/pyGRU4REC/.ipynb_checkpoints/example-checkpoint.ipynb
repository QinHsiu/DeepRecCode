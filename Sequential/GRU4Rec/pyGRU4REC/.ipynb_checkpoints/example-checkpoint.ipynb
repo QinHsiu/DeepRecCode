{
 "cells": [
  {
   "cell_type": "markdown",
   "metadata": {},
   "source": [
    "# Load the Data & Train on a small subset"
   ]
  },
  {
   "cell_type": "code",
   "execution_count": 1,
   "metadata": {
    "ExecuteTime": {
     "end_time": "2018-02-27T22:25:36.070715Z",
     "start_time": "2018-02-27T22:25:25.615253Z"
    }
   },
   "outputs": [],
   "source": [
    "import pandas as pd\n",
    "import numpy as np\n",
    "from pathlib import Path\n",
    "from modules.data import SessionDataset\n",
    "\n",
    "PATH_HOME = Path.home()\n",
    "PATH_PROJ = PATH_HOME/'pyGRU4REC' \n",
    "PATH_DATA = PATH_PROJ/'data'\n",
    "PATH_MODEL = PATH_PROJ/'models'\n",
    "train = 'train.tsv'\n",
    "test = 'test.tsv'\n",
    "PATH_TRAIN = PATH_DATA / train\n",
    "PATH_TEST = PATH_DATA / test\n",
    "n_samples = -1\n",
    "n_samples = 100000\n",
    "train_dataset = SessionDataset(PATH_TRAIN, n_samples=n_samples)\n",
    "test_dataset = SessionDataset(PATH_TEST, n_samples=n_samples, itemmap=train_dataset.itemmap)"
   ]
  },
  {
   "cell_type": "markdown",
   "metadata": {},
   "source": [
    "Train on a small subset of data"
   ]
  },
  {
   "cell_type": "code",
   "execution_count": 2,
   "metadata": {},
   "outputs": [
    {
     "name": "stderr",
     "output_type": "stream",
     "text": [
      "/usr/local/anaconda3/lib/python3.6/site-packages/torch/nn/modules/rnn.py:38: UserWarning: dropout option adds dropout after all but last recurrent layer, so non-zero dropout expects num_layers greater than 1, but got dropout=0.5 and num_layers=1\n",
      "  \"num_layers={}\".format(dropout, num_layers))\n"
     ]
    },
    {
     "name": "stdout",
     "output_type": "stream",
     "text": [
      "Training GRU4REC...\n",
      "epoch: 1/loss:0.956/recall:0.272/mrr:0.154/time:0.059\n",
      "epoch: 2/loss:0.909/recall:0.445/mrr:0.244/time:0.058\n",
      "epoch: 3/loss:0.886/recall:0.517/mrr:0.279/time:0.058\n",
      "epoch: 4/loss:0.872/recall:0.568/mrr:0.306/time:0.058\n",
      "epoch: 5/loss:0.862/recall:0.607/mrr:0.329/time:0.058\n",
      "epoch: 6/loss:0.855/recall:0.635/mrr:0.348/time:0.058\n",
      "epoch: 7/loss:0.849/recall:0.657/mrr:0.364/time:0.058\n",
      "epoch: 8/loss:0.844/recall:0.676/mrr:0.375/time:0.058\n",
      "epoch: 9/loss:0.839/recall:0.691/mrr:0.385/time:0.058\n",
      "epoch:10/loss:0.836/recall:0.704/mrr:0.394/time:0.058\n",
      "Test result: loss:0.979/recall:0.088/mrr:0.046/time:0.003\n"
     ]
    }
   ],
   "source": [
    "from modules.model import GRU4REC\n",
    "import torch\n",
    "\n",
    "input_size = len(train_dataset.items)\n",
    "hidden_size = 100\n",
    "num_layers = 1\n",
    "output_size = input_size\n",
    "batch_size = 50\n",
    "\n",
    "optimizer_type = 'Adagrad'\n",
    "lr = .01\n",
    "weight_decay = 0\n",
    "momentum = 0\n",
    "eps = 1e-6\n",
    "\n",
    "loss_type = 'TOP1'\n",
    "\n",
    "n_epochs = 10\n",
    "use_cuda = True\n",
    "\n",
    "torch.manual_seed(7)\n",
    "\n",
    "model = GRU4REC(input_size, hidden_size, output_size,\n",
    "                num_layers=num_layers,\n",
    "                batch_size=batch_size,\n",
    "                optimizer_type=optimizer_type,\n",
    "                lr=lr,\n",
    "                weight_decay=weight_decay,\n",
    "                momentum=momentum,\n",
    "                eps=eps,\n",
    "                loss_type=loss_type,\n",
    "                use_cuda=use_cuda)\n",
    "\n",
    "model_name = 'GRU4REC'\n",
    "model.train(train_dataset, n_epochs=n_epochs, model_name=model_name, save=False)\n",
    "model.test(test_dataset)"
   ]
  },
  {
   "cell_type": "markdown",
   "metadata": {},
   "source": [
    "# Full Training"
   ]
  },
  {
   "cell_type": "code",
   "execution_count": null,
   "metadata": {
    "ExecuteTime": {
     "end_time": "2018-02-27T05:29:50.087721Z",
     "start_time": "2018-02-27T05:29:37.345345Z"
    },
    "collapsed": true
   },
   "outputs": [],
   "source": [
    "from pathlib import Path\n",
    "import pandas as pd\n",
    "import numpy as np\n",
    "import torch\n",
    "from modules.data import SessionDataset\n",
    "from modules.model import GRU4REC\n",
    "\n",
    "\n",
    "PATH_HOME = Path.home()\n",
    "PATH_PROJ = PATH_HOME/'pyGRU4REC' \n",
    "PATH_DATA = PATH_PROJ/'data'\n",
    "PATH_MODEL = PATH_PROJ/'models'\n",
    "train = 'train.tsv'\n",
    "test = 'test.tsv'\n",
    "PATH_TRAIN = PATH_DATA / train\n",
    "PATH_TEST = PATH_DATA / test\n",
    "\n",
    "train_dataset = SessionDataset(PATH_TRAIN)\n",
    "test_dataset = SessionDataset(PATH_TEST, itemmap=train_dataset.itemmap)\n",
    "\n",
    "input_size = len(train_dataset.items)\n",
    "hidden_size = 100\n",
    "num_layers = 1\n",
    "output_size = input_size\n",
    "batch_size = 50\n",
    "\n",
    "optimizer_type = 'Adagrad'\n",
    "lr = .01\n",
    "weight_decay = 0\n",
    "momentum = 0\n",
    "eps = 1e-6\n",
    "\n",
    "loss_type = 'TOP1'\n",
    "\n",
    "n_epochs = 10\n",
    "use_cuda = True\n",
    "\n",
    "torch.manual_seed(7)\n",
    "\n",
    "model = GRU4REC(input_size, hidden_size, output_size,\n",
    "                num_layers=num_layers,\n",
    "                batch_size=batch_size,\n",
    "                optimizer_type=optimizer_type,\n",
    "                lr=lr,\n",
    "                weight_decay=weight_decay,\n",
    "                momentum=momentum,\n",
    "                eps=eps,\n",
    "                loss_type=loss_type,\n",
    "                use_cuda=use_cuda)\n",
    "\n",
    "model_name = 'GRU4REC'\n",
    "model.train(train_dataset, n_epochs=n_epochs, model_name=model_name, save=False)\n",
    "model.test(test_dataset)"
   ]
  },
  {
   "cell_type": "markdown",
   "metadata": {},
   "source": [
    "## Evaluate using the trained models"
   ]
  },
  {
   "cell_type": "code",
   "execution_count": 3,
   "metadata": {
    "ExecuteTime": {
     "end_time": "2018-02-27T05:44:13.202111Z",
     "start_time": "2018-02-27T05:44:05.731675Z"
    }
   },
   "outputs": [],
   "source": [
    "from pathlib import Path\n",
    "from modules.data import SessionDataset\n",
    "\n",
    "PATH_HOME = Path.home()\n",
    "PATH_PROJ = PATH_HOME/'pyGRU4REC' \n",
    "PATH_DATA = PATH_PROJ/'data'\n",
    "PATH_MODEL = PATH_PROJ/'models'\n",
    "train = 'train.tsv'\n",
    "test = 'test.tsv'\n",
    "PATH_TRAIN = PATH_DATA / train\n",
    "PATH_TEST = PATH_DATA / test\n",
    "train_dataset = SessionDataset(PATH_TRAIN)\n",
    "test_dataset = SessionDataset(PATH_TEST, itemmap=train_dataset.itemmap)"
   ]
  },
  {
   "cell_type": "markdown",
   "metadata": {},
   "source": [
    "## 1.Load the Common Parameters"
   ]
  },
  {
   "cell_type": "code",
   "execution_count": 4,
   "metadata": {
    "ExecuteTime": {
     "end_time": "2018-02-27T05:44:13.441073Z",
     "start_time": "2018-02-27T05:44:13.316621Z"
    }
   },
   "outputs": [],
   "source": [
    "import torch\n",
    "from modules.layer import GRU\n",
    "from modules.model import GRU4REC\n",
    "\n",
    "input_size = len(train_dataset.items)\n",
    "output_size = input_size\n",
    "hidden_size = 100\n",
    "num_layers = 1\n",
    "\n",
    "use_cuda = True\n",
    "time_sort = False\n",
    "\n",
    "optimizer_type = 'Adagrad'"
   ]
  },
  {
   "cell_type": "markdown",
   "metadata": {},
   "source": [
    "## 2. Evaluation(TOP1 Loss)"
   ]
  },
  {
   "cell_type": "code",
   "execution_count": 5,
   "metadata": {},
   "outputs": [
    {
     "name": "stderr",
     "output_type": "stream",
     "text": [
      "/usr/local/anaconda3/lib/python3.6/site-packages/torch/nn/modules/rnn.py:38: UserWarning: dropout option adds dropout after all but last recurrent layer, so non-zero dropout expects num_layers greater than 1, but got dropout=0.5 and num_layers=1\n",
      "  \"num_layers={}\".format(dropout, num_layers))\n"
     ]
    },
    {
     "name": "stdout",
     "output_type": "stream",
     "text": [
      "Test result: loss:0.857/recall:0.628/mrr:0.264/time:0.033\n"
     ]
    }
   ],
   "source": [
    "model_name = 'GRU4REC_TOP1_Adagrad_0.01_epoch5'\n",
    "model_file = PATH_MODEL/model_name\n",
    "\n",
    "loss_type = 'TOP1'\n",
    "lr = 0.01\n",
    "\n",
    "dropout_hidden = .5\n",
    "dropout_input = 0\n",
    "batch_size = 50\n",
    "momentum = 0\n",
    "\n",
    "gru = GRU(input_size, hidden_size, output_size,\n",
    "          num_layers = num_layers,\n",
    "          dropout_input = dropout_input,\n",
    "          dropout_hidden = dropout_hidden,\n",
    "          batch_size = batch_size,\n",
    "          use_cuda = use_cuda)\n",
    "\n",
    "gru.load_state_dict(torch.load(model_file))\n",
    "\n",
    "model = GRU4REC(input_size, hidden_size, output_size,\n",
    "                num_layers = num_layers,\n",
    "                dropout_input = dropout_input,\n",
    "                dropout_hidden = dropout_hidden,\n",
    "                batch_size = batch_size,\n",
    "                use_cuda = use_cuda,\n",
    "                loss_type = loss_type,\n",
    "                optimizer_type = optimizer_type,\n",
    "                lr=lr,\n",
    "                momentum=momentum,\n",
    "                time_sort=time_sort,\n",
    "                pretrained=gru)\n",
    "\n",
    "k = 20\n",
    "model.test(test_dataset, k=k)"
   ]
  },
  {
   "cell_type": "markdown",
   "metadata": {},
   "source": [
    "## 3. Evaluation(BPR Loss)"
   ]
  },
  {
   "cell_type": "code",
   "execution_count": 6,
   "metadata": {},
   "outputs": [
    {
     "name": "stderr",
     "output_type": "stream",
     "text": [
      "/usr/local/anaconda3/lib/python3.6/site-packages/torch/nn/modules/rnn.py:38: UserWarning: dropout option adds dropout after all but last recurrent layer, so non-zero dropout expects num_layers greater than 1, but got dropout=0.2 and num_layers=1\n",
      "  \"num_layers={}\".format(dropout, num_layers))\n"
     ]
    },
    {
     "name": "stdout",
     "output_type": "stream",
     "text": [
      "Test result: loss:0.289/recall:0.599/mrr:0.239/time:0.032\n"
     ]
    }
   ],
   "source": [
    "model_name = 'GRU4REC_BPR_Adagrad_0.05_epoch5'\n",
    "model_file = PATH_MODEL/model_name\n",
    "\n",
    "loss_type = 'BPR'\n",
    "lr = 0.05\n",
    "\n",
    "dropout_hidden = .2\n",
    "dropout_input = 0\n",
    "batch_size = 50\n",
    "momentum = 0.2\n",
    "\n",
    "gru = GRU(input_size, hidden_size, output_size,\n",
    "          num_layers = num_layers,\n",
    "          dropout_input = dropout_input,\n",
    "          dropout_hidden = dropout_hidden,\n",
    "          batch_size = batch_size,\n",
    "          use_cuda = use_cuda)\n",
    "\n",
    "gru.load_state_dict(torch.load(model_file))\n",
    "\n",
    "model = GRU4REC(input_size, hidden_size, output_size,\n",
    "                num_layers = num_layers,\n",
    "                dropout_input = dropout_input,\n",
    "                dropout_hidden = dropout_hidden,\n",
    "                batch_size = batch_size,\n",
    "                use_cuda = use_cuda,\n",
    "                loss_type = loss_type,\n",
    "                optimizer_type = optimizer_type,\n",
    "                lr=lr,\n",
    "                momentum=momentum,\n",
    "                time_sort=time_sort,\n",
    "                pretrained=gru)\n",
    "\n",
    "k = 20\n",
    "model.test(test_dataset, k=k)"
   ]
  },
  {
   "cell_type": "markdown",
   "metadata": {},
   "source": [
    "## 4. Evaluation(CrossEntropyLoss)"
   ]
  },
  {
   "cell_type": "code",
   "execution_count": 7,
   "metadata": {},
   "outputs": [
    {
     "name": "stdout",
     "output_type": "stream",
     "text": [
      "Test result: loss:5.051/recall:0.620/mrr:0.254/time:0.013\n"
     ]
    }
   ],
   "source": [
    "model_name = 'GRU4REC_CrossEntropy_Adagrad_0.01_epoch5'\n",
    "model_file = PATH_MODEL/model_name\n",
    "\n",
    "loss_type = 'CrossEntropy'\n",
    "lr = 0.01\n",
    "\n",
    "dropout_hidden = 0\n",
    "dropout_input = 0\n",
    "batch_size = 500\n",
    "momentum = 0\n",
    "\n",
    "gru = GRU(input_size, hidden_size, output_size,\n",
    "          num_layers = num_layers,\n",
    "          dropout_input = dropout_input,\n",
    "          dropout_hidden = dropout_hidden,\n",
    "          batch_size = batch_size,\n",
    "          use_cuda = use_cuda)\n",
    "\n",
    "gru.load_state_dict(torch.load(model_file))\n",
    "\n",
    "model = GRU4REC(input_size, hidden_size, output_size,\n",
    "                num_layers = num_layers,\n",
    "                dropout_input = dropout_input,\n",
    "                dropout_hidden = dropout_hidden,\n",
    "                batch_size = batch_size,\n",
    "                use_cuda = use_cuda,\n",
    "                loss_type = loss_type,\n",
    "                optimizer_type = optimizer_type,\n",
    "                lr=lr,\n",
    "                momentum=momentum,\n",
    "                time_sort=time_sort,\n",
    "                pretrained=gru)\n",
    "\n",
    "k = 20\n",
    "model.test(test_dataset, k=k)"
   ]
  }
 ],
 "metadata": {
  "kernelspec": {
   "display_name": "Python 3",
   "language": "python",
   "name": "python3"
  },
  "language_info": {
   "codemirror_mode": {
    "name": "ipython",
    "version": 3
   },
   "file_extension": ".py",
   "mimetype": "text/x-python",
   "name": "python",
   "nbconvert_exporter": "python",
   "pygments_lexer": "ipython3",
   "version": "3.6.4"
  },
  "latex_envs": {
   "LaTeX_envs_menu_present": true,
   "autoclose": false,
   "autocomplete": true,
   "bibliofile": "biblio.bib",
   "cite_by": "apalike",
   "current_citInitial": 1,
   "eqLabelWithNumbers": true,
   "eqNumInitial": 1,
   "hotkeys": {
    "equation": "Ctrl-E",
    "itemize": "Ctrl-I"
   },
   "labels_anchors": false,
   "latex_user_defs": false,
   "report_style_numbering": false,
   "user_envs_cfg": false
  },
  "varInspector": {
   "cols": {
    "lenName": 16,
    "lenType": 16,
    "lenVar": 40
   },
   "kernels_config": {
    "python": {
     "delete_cmd_postfix": "",
     "delete_cmd_prefix": "del ",
     "library": "var_list.py",
     "varRefreshCmd": "print(var_dic_list())"
    },
    "r": {
     "delete_cmd_postfix": ") ",
     "delete_cmd_prefix": "rm(",
     "library": "var_list.r",
     "varRefreshCmd": "cat(var_dic_list()) "
    }
   },
   "position": {
    "height": "761px",
    "left": "1497px",
    "right": "20px",
    "top": "121px",
    "width": "354px"
   },
   "types_to_exclude": [
    "module",
    "function",
    "builtin_function_or_method",
    "instance",
    "_Feature"
   ],
   "window_display": false
  }
 },
 "nbformat": 4,
 "nbformat_minor": 2
}
