{
 "cells": [
  {
   "cell_type": "code",
   "execution_count": 1,
   "metadata": {
    "ExecuteTime": {
     "end_time": "2018-02-26T03:45:06.384055Z",
     "start_time": "2018-02-26T03:44:58.800555Z"
    },
    "collapsed": true
   },
   "outputs": [],
   "source": [
    "import pandas as pd\n",
    "import numpy as np\n",
    "from pathlib import Path\n",
    "\n",
    "PATH_PROJ = Path.cwd()\n",
    "PATH_DATA = PATH_PROJ/'data'\n",
    "train = 'rsc15_train_full.txt'\n",
    "test = 'rsc15_test.txt'\n",
    "PATH_TO_TRAIN = PATH_DATA / train\n",
    "PATH_TO_TEST = PATH_DATA / test\n",
    "\n",
    "df_train = pd.read_csv(PATH_TO_TRAIN, sep='\\t', dtype={'ItemId': np.int64})[:10000]\n",
    "df_test = pd.read_csv(PATH_TO_TEST, sep='\\t', dtype={'ItemId': np.int64})[:10000]"
   ]
  },
  {
   "cell_type": "code",
   "execution_count": 2,
   "metadata": {
    "ExecuteTime": {
     "end_time": "2018-02-26T03:45:10.491551Z",
     "start_time": "2018-02-26T03:45:06.385227Z"
    }
   },
   "outputs": [
    {
     "name": "stdout",
     "output_type": "stream",
     "text": [
      "Epoch: 1/Loss:0.992/TrainingTime:0.007(min)\n",
      "Epoch: 2/Loss:0.960/TrainingTime:0.005(min)\n",
      "Epoch: 3/Loss:0.933/TrainingTime:0.005(min)\n",
      "Epoch: 4/Loss:0.913/TrainingTime:0.005(min)\n",
      "Epoch: 5/Loss:0.896/TrainingTime:0.005(min)\n"
     ]
    }
   ],
   "source": [
    "from modules.model import GRU4REC\n",
    "import torch\n",
    "\n",
    "session_key = 'SessionId'\n",
    "time_key = 'Time'\n",
    "item_key = 'ItemId'\n",
    "\n",
    "input_size = df_train[item_key].nunique()\n",
    "hidden_size = 100\n",
    "num_layers = 1\n",
    "output_size = input_size\n",
    "batch_size = 50\n",
    "dropout_input = 0\n",
    "dropout_hidden = .5\n",
    "\n",
    "optimizer_type = 'Adagrad'\n",
    "lr = .01\n",
    "weight_decay = 0\n",
    "momentum = 0\n",
    "eps = 1e-6\n",
    "\n",
    "loss_type = 'TOP1'\n",
    "\n",
    "n_epochs = 5\n",
    "time_sort = False\n",
    "n_samples = -1\n",
    "use_cuda = True\n",
    "\n",
    "torch.manual_seed(7)\n",
    "torch.cuda.manual_seed(7)\n",
    "\n",
    "train_data = df_train[:n_samples] if n_samples != -1 else df_train\n",
    "\n",
    "model = GRU4REC(input_size, hidden_size, output_size, num_layers=num_layers, batch_size=batch_size,\n",
    "                dropout_input=dropout_input, dropout_hidden=dropout_hidden, optimizer_type=optimizer_type, lr=lr,\n",
    "                weight_decay=weight_decay, momentum=momentum, eps=eps, loss_type=loss_type,\n",
    "                time_sort=time_sort, use_cuda=use_cuda)\n",
    "\n",
    "model.train(train_data, session_key, time_key, item_key, n_epochs=n_epochs)"
   ]
  },
  {
   "cell_type": "code",
   "execution_count": 3,
   "metadata": {
    "ExecuteTime": {
     "end_time": "2018-02-26T03:45:12.091070Z",
     "start_time": "2018-02-26T03:45:10.492446Z"
    }
   },
   "outputs": [
    {
     "name": "stdout",
     "output_type": "stream",
     "text": [
      "Epoch: 1/Loss:0.992/TrainingTime:0.005(min)\n",
      "Epoch: 2/Loss:0.960/TrainingTime:0.005(min)\n",
      "Epoch: 3/Loss:0.933/TrainingTime:0.005(min)\n",
      "Epoch: 4/Loss:0.913/TrainingTime:0.005(min)\n",
      "Epoch: 5/Loss:0.896/TrainingTime:0.005(min)\n"
     ]
    }
   ],
   "source": [
    "from modules.model_simple import GRU4REC as GRUSIMPLE\n",
    "import torch\n",
    "\n",
    "session_key = 'SessionId'\n",
    "time_key = 'Time'\n",
    "item_key = 'ItemId'\n",
    "\n",
    "input_size = df_train[item_key].nunique()\n",
    "hidden_size = 100\n",
    "num_layers = 1\n",
    "output_size = input_size\n",
    "batch_size = 50\n",
    "dropout_input = 0\n",
    "dropout_hidden = .5\n",
    "\n",
    "optimizer_type = 'Adagrad'\n",
    "lr = .01\n",
    "weight_decay = 0\n",
    "momentum = 0\n",
    "eps = 1e-6\n",
    "\n",
    "loss_type = 'TOP1'\n",
    "\n",
    "n_epochs = 5\n",
    "time_sort = False\n",
    "n_samples = -1\n",
    "use_cuda = True\n",
    "\n",
    "torch.manual_seed(7)\n",
    "torch.cuda.manual_seed(7)\n",
    "\n",
    "train_data = df_train[:n_samples] if n_samples != -1 else df_train\n",
    "\n",
    "model = GRUSIMPLE(input_size, hidden_size, output_size, num_layers=num_layers, batch_size=batch_size,\n",
    "                dropout_input=dropout_input, dropout_hidden=dropout_hidden, optimizer_type=optimizer_type, lr=lr,\n",
    "                weight_decay=weight_decay, momentum=momentum, eps=eps, loss_type=loss_type,\n",
    "                time_sort=time_sort, use_cuda=use_cuda)\n",
    "\n",
    "model.init_data(df_train, df_test, session_key=session_key, time_key=time_key, item_key=item_key)\n",
    "model_name = 'GRU4REC_SIMPLE'\n",
    "model.train(n_epochs=n_epochs, model_name=model_name)"
   ]
  }
 ],
 "metadata": {
  "kernelspec": {
   "display_name": "Python 3",
   "language": "python",
   "name": "python3"
  },
  "language_info": {
   "codemirror_mode": {
    "name": "ipython",
    "version": 3
   },
   "file_extension": ".py",
   "mimetype": "text/x-python",
   "name": "python",
   "nbconvert_exporter": "python",
   "pygments_lexer": "ipython3",
   "version": "3.6.3"
  },
  "latex_envs": {
   "LaTeX_envs_menu_present": true,
   "autoclose": false,
   "autocomplete": true,
   "bibliofile": "biblio.bib",
   "cite_by": "apalike",
   "current_citInitial": 1,
   "eqLabelWithNumbers": true,
   "eqNumInitial": 1,
   "hotkeys": {
    "equation": "Ctrl-E",
    "itemize": "Ctrl-I"
   },
   "labels_anchors": false,
   "latex_user_defs": false,
   "report_style_numbering": false,
   "user_envs_cfg": false
  },
  "varInspector": {
   "cols": {
    "lenName": 16,
    "lenType": 16,
    "lenVar": 40
   },
   "kernels_config": {
    "python": {
     "delete_cmd_postfix": "",
     "delete_cmd_prefix": "del ",
     "library": "var_list.py",
     "varRefreshCmd": "print(var_dic_list())"
    },
    "r": {
     "delete_cmd_postfix": ") ",
     "delete_cmd_prefix": "rm(",
     "library": "var_list.r",
     "varRefreshCmd": "cat(var_dic_list()) "
    }
   },
   "types_to_exclude": [
    "module",
    "function",
    "builtin_function_or_method",
    "instance",
    "_Feature"
   ],
   "window_display": true
  }
 },
 "nbformat": 4,
 "nbformat_minor": 2
}
